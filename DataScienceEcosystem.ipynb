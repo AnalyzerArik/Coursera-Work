{
 "cells": [
  {
   "cell_type": "markdown",
   "id": "314ce9d9-9c1e-4663-84db-48f690523f6b",
   "metadata": {},
   "source": [
    "# Data Science Tools and Ecosystem"
   ]
  },
  {
   "cell_type": "markdown",
   "id": "8204002c-dfc7-410e-8905-f55d5f0a78c8",
   "metadata": {},
   "source": [
    "In this notebook, Data Science Tools and Ecosystem are summarized."
   ]
  },
  {
   "cell_type": "markdown",
   "id": "84a583c0-2432-4a7c-ac01-410a7a6f9788",
   "metadata": {},
   "source": [
    "Some of the popular languages that Data Scientists use are:\n",
    "1. Python\n",
    "2. R\n",
    "3. SQL\n",
    "4. Java"
   ]
  },
  {
   "cell_type": "markdown",
   "id": "72b085a0-17f0-4f26-b489-55f74eb7ce8c",
   "metadata": {},
   "source": [
    "Some of the commonly used libraries used by Data Scientists include:\n",
    "1. Pandas\n",
    "2. NumPy\n",
    "3. Plotly"
   ]
  },
  {
   "cell_type": "markdown",
   "id": "1323eea7-cadc-4e1b-8422-009f0d44d872",
   "metadata": {},
   "source": [
    "| Data Science Tools |\n",
    "|-----|\n",
    "| Hadoop |\n",
    "| MySQL |\n",
    "| GitHub |"
   ]
  },
  {
   "cell_type": "markdown",
   "id": "1dfed5a4-5561-4a62-8d4a-a9517281afc0",
   "metadata": {},
   "source": [
    "### Below are a few examples of evaluating arithmetic expressions in Python."
   ]
  },
  {
   "cell_type": "markdown",
   "id": "091f08f3-fc21-4fec-be4f-3198c8ebe0a4",
   "metadata": {},
   "source": [
    "This is a simple arithmetic expression to multiply then add integers."
   ]
  },
  {
   "cell_type": "code",
   "execution_count": 1,
   "id": "9c1292f9-32b1-4b08-b8c0-cf78250c2fd0",
   "metadata": {},
   "outputs": [
    {
     "data": {
      "text/plain": [
       "17"
      ]
     },
     "execution_count": 1,
     "metadata": {},
     "output_type": "execute_result"
    }
   ],
   "source": [
    "(3*4)+5"
   ]
  },
  {
   "cell_type": "code",
   "execution_count": 3,
   "id": "e7138852-ec3f-42f2-b557-24f178c6a894",
   "metadata": {},
   "outputs": [
    {
     "data": {
      "text/plain": [
       "3.3333333333333335"
      ]
     },
     "execution_count": 3,
     "metadata": {},
     "output_type": "execute_result"
    }
   ],
   "source": [
    "200/60"
   ]
  },
  {
   "cell_type": "markdown",
   "id": "b6dc7ae5-88e3-43ee-b9a1-94450a4753b9",
   "metadata": {},
   "source": [
    "__Objectives:__\n",
    "- List Data Science Libraries\n",
    "- List Data Science Tools\n",
    "- List Data Science Languages\n",
    "- Make a columned list"
   ]
  },
  {
   "cell_type": "markdown",
   "id": "ef3ecb26-268a-4d48-a859-bc5f84e283f9",
   "metadata": {},
   "source": [
    "## Author\n",
    "Arik Myers"
   ]
  },
  {
   "cell_type": "code",
   "execution_count": null,
   "id": "e3857416-8eaf-4565-befb-b75e9a40ac44",
   "metadata": {},
   "outputs": [],
   "source": [
    "11"
   ]
  }
 ],
 "metadata": {
  "kernelspec": {
   "display_name": "Python 3 (ipykernel)",
   "language": "python",
   "name": "python3"
  },
  "language_info": {
   "codemirror_mode": {
    "name": "ipython",
    "version": 3
   },
   "file_extension": ".py",
   "mimetype": "text/x-python",
   "name": "python",
   "nbconvert_exporter": "python",
   "pygments_lexer": "ipython3",
   "version": "3.12.5"
  }
 },
 "nbformat": 4,
 "nbformat_minor": 5
}
